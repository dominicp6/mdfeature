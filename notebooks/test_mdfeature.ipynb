{
 "cells": [
  {
   "cell_type": "markdown",
   "metadata": {},
   "source": [
    "## Tutorial mdfeature \n",
    "\n",
    "\n",
    "Author: Zofia Trstanova   \n",
    "Edits: Dom Phillips"
   ]
  },
  {
   "cell_type": "code",
   "execution_count": null,
   "metadata": {
    "scrolled": true
   },
   "outputs": [],
   "source": [
    "%matplotlib inline\n",
    "#import metadynamics\n",
    "from openmm import *\n",
    "from openmm.app import *\n",
    "from openmm.unit import *\n",
    "import matplotlib.pyplot as plt\n",
    "import matplotlib.patches as patches\n",
    "import matplotlib.image as image\n",
    "from pyemma import msm\n",
    "from scipy.interpolate import griddata\n",
    "from matplotlib.pyplot import cm\n",
    "import mdtraj as md\n",
    "from ipywidgets import IntProgress\n",
    "from IPython.display import display\n",
    "import time\n",
    "import numpy as np\n",
    "\n",
    "import mdfeature.features as features"
   ]
  },
  {
   "cell_type": "code",
   "execution_count": null,
   "metadata": {},
   "outputs": [],
   "source": [
    "import matplotlib.pyplot as plt\n",
    "import matplotlib as mpl\n",
    "mpl.rcParams['lines.linewidth'] = 2\n",
    "font = {'family' : 'sans-serif',\n",
    "        'size'   : 14.0}\n",
    "mpl.rc('font', **font) \n",
    "\n",
    "mpl.rcParams['xtick.labelsize'] = 16\n",
    "mpl.rcParams['ytick.labelsize'] =  16\n",
    "mpl.rcParams['font.size'] =  15\n",
    "mpl.rcParams['figure.autolayout'] =  True\n",
    "mpl.rcParams['figure.figsize'] =  7.2,4.45\n",
    "mpl.rcParams['axes.titlesize'] =  16\n",
    "mpl.rcParams['axes.labelsize'] =  17\n",
    "mpl.rcParams['lines.linewidth'] =  2\n",
    "mpl.rcParams['lines.markersize'] =  6\n",
    "mpl.rcParams['legend.fontsize'] =  13\n"
   ]
  },
  {
   "cell_type": "markdown",
   "metadata": {},
   "source": [
    "## Initiating OpenMM to run or load a short trajectory"
   ]
  },
  {
   "cell_type": "code",
   "execution_count": null,
   "metadata": {},
   "outputs": [],
   "source": [
    "# Bunch of useful simulation parameters\n",
    "steps = 100\n",
    "iterations = 10000\n",
    "temperature = 300\n",
    "beta = 1.0/(temperature*0.0083144621)"
   ]
  },
  {
   "cell_type": "markdown",
   "metadata": {},
   "source": [
    "Run a Langevin dynamics simulation using the Amber forcefield at $300K$ with friction coefficient of 1 $ps^{-1}$ and stepsize $0.002 ps$."
   ]
  },
  {
   "cell_type": "code",
   "execution_count": null,
   "metadata": {
    "scrolled": true
   },
   "outputs": [],
   "source": [
    "pdb_name = 'alanine.pdb'\n",
    "pdb = PDBFile(pdb_name)\n",
    "saving_file = 'trajectory.dcd'\n",
    "\n",
    "forcefield = ForceField('amber14-all.xml', 'amber14/spce.xml')\n",
    "system = forcefield.createSystem(pdb.topology, nonbondedMethod=CutoffNonPeriodic, constraints=HBonds)\n",
    "\n",
    "integrator = LangevinIntegrator(temperature*kelvin, 1.0/picosecond, 0.002*picoseconds)\n",
    "simulation = Simulation(pdb.topology, system, integrator, platform=Platform.getPlatformByName('CPU'))\n",
    "simulation.context.setPositions(pdb.positions)\n",
    "simulation.context.setVelocitiesToTemperature(temperature*kelvin)\n",
    "\n"
   ]
  },
  {
   "cell_type": "markdown",
   "metadata": {},
   "source": [
    "Features module contains functions to print the name of the torsions."
   ]
  },
  {
   "cell_type": "code",
   "execution_count": null,
   "metadata": {},
   "outputs": [],
   "source": [
    "# check the loaded topology\n",
    "\n",
    "print(pdb.topology)\n",
    "topology = md.load(pdb_name).topology\n",
    "print(topology)\n",
    "\n",
    "table, bonds = topology.to_dataframe()\n",
    "#print(table)"
   ]
  },
  {
   "cell_type": "markdown",
   "metadata": {},
   "source": [
    "Displays designation name of torsion angle for given atom indices (phi, psi)"
   ]
  },
  {
   "cell_type": "code",
   "execution_count": null,
   "metadata": {},
   "outputs": [],
   "source": [
    "import mdfeature.features as features\n",
    "\n",
    "phi = [4, 6, 8 ,14] #dihedral coordinates # [4, 6, 8 ,14]#[1, 6, 8, 14]\n",
    "psi = [6, 8, 14, 16]\n",
    "\n",
    "phi_name = features.get_name_torsion(phi, pdb_file=pdb_name, table=table)\n",
    "psi_name = features.get_name_torsion(psi, pdb_file=pdb_name, table=table)\n",
    "\n",
    "print('Long name')\n",
    "print(phi_name)\n",
    "print(psi_name)\n",
    "\n",
    "phi_name_short = features.get_name_torsion(phi, pdb_file=pdb_name, table=table, format='short')\n",
    "psi_name_short = features.get_name_torsion(psi, pdb_file=pdb_name, table=table, format='short')\n",
    "\n",
    "print('Short name')\n",
    "print(phi_name_short)\n",
    "print(psi_name_short)"
   ]
  },
  {
   "cell_type": "code",
   "execution_count": null,
   "metadata": {},
   "outputs": [],
   "source": [
    "# Run the simulation\n",
    "\n",
    "# if False, dont run\n",
    "run = False\n",
    "\n",
    "mdinit = md.load_pdb(pdb_name)\n",
    "    \n",
    "if run: \n",
    "\n",
    "    mdinit.save_dcd(saving_file)     \n",
    "    simulation.reporters.append(DCDReporter(saving_file, steps, append=True))\n",
    "\n",
    "    max_count = iterations\n",
    "    bar = IntProgress(min=0, max=max_count) # instantiate the bar\n",
    "    display(bar) # display the bar\n",
    "    \n",
    "    for i in range(iterations):\n",
    "        \n",
    "        bar.value += 1\n",
    "        simulation.step(steps)\n",
    "\n",
    "        state = simulation.context.getState(getEnergy=True, enforcePeriodicBox = False)\n",
    "        positions = simulation.context.getState(getPositions=True).getPositions()\n",
    "        \n"
   ]
  },
  {
   "cell_type": "markdown",
   "metadata": {},
   "source": [
    "## Load trajectory"
   ]
  },
  {
   "cell_type": "code",
   "execution_count": null,
   "metadata": {},
   "outputs": [],
   "source": [
    "traj_std_tmp = md.load_dcd('test_traj.dcd', mdinit.topology)\n",
    "\n",
    "skip_first = 1000\n",
    "traj_orig = traj_std_tmp[skip_first:]\n",
    "print(traj_orig)\n",
    "traj_orig = traj_orig.superpose(traj_orig[0])"
   ]
  },
  {
   "cell_type": "markdown",
   "metadata": {},
   "source": [
    "### Compute diffusionmap\n",
    "\n",
    "Module diffusionmap allows to compute the diffusion maps from the trajectory.\n",
    "\n",
    "We first show how to compute the vanilla diffusionmap"
   ]
  },
  {
   "cell_type": "code",
   "execution_count": null,
   "metadata": {},
   "outputs": [],
   "source": [
    "import mdfeature.diffusionmap as diffusionmap\n",
    "\n",
    "mydmap, traj = diffusionmap.compute_diffusionmaps(traj_orig, nrpoints=2000, epsilon=1.0)"
   ]
  },
  {
   "cell_type": "code",
   "execution_count": null,
   "metadata": {},
   "outputs": [],
   "source": [
    "evec = np.asarray(mydmap.evecs[:,0])\n",
    "print(evec[1:].shape)\n",
    "print(len(traj))"
   ]
  },
  {
   "cell_type": "markdown",
   "metadata": {},
   "source": [
    "Compute time evolution of torsion angle for defined atomic indices. Plot them as a function of the diffusion coordinate(s)."
   ]
  },
  {
   "cell_type": "code",
   "execution_count": null,
   "metadata": {},
   "outputs": [],
   "source": [
    "phi_torsion = features.compute_torsion_mdraj(traj, phi)\n",
    "psi_torsion = features.compute_torsion_mdraj(traj, psi)\n",
    "\n",
    "clb = plt.scatter(phi_torsion, psi_torsion, c=mydmap.evecs[:,0], s=5)\n",
    "plt.colorbar(clb, label='DC 1')\n",
    "plt.xlim([-np.pi, np.pi])\n",
    "plt.ylim([-np.pi, np.pi])\n",
    "\n",
    "plt.xlabel(r'$\\phi$')\n",
    "plt.ylabel(r'$\\psi$')\n",
    "plt.show()\n",
    "\n",
    "\n",
    "clb = plt.scatter(phi_torsion, psi_torsion, c=mydmap.evecs[:,1], s=5)\n",
    "plt.colorbar(clb, label='DC 2')\n",
    "plt.xlim([-np.pi, np.pi])\n",
    "plt.ylim([-np.pi, np.pi])\n",
    "\n",
    "plt.xlabel(r'$\\phi$')\n",
    "plt.ylabel(r'$\\psi$')\n",
    "plt.show()\n",
    "\n",
    "time = np.arange(0, 9000*steps*0.002*0.001, 9000*steps*0.002*0.001/9000)\n",
    "plt.plot(time, phi_torsion, label='phi')\n",
    "plt.xlabel('ns')\n",
    "plt.ylabel(r'$\\phi$')\n",
    "plt.legend()\n",
    "plt.show()\n",
    "plt.plot(time, psi_torsion, label='psi')\n",
    "plt.xlabel('ns')\n",
    "plt.ylabel(r'$\\psi$')\n",
    "plt.legend()\n",
    "plt.show()"
   ]
  },
  {
   "cell_type": "markdown",
   "metadata": {},
   "source": [
    "### TMDmap\n",
    "\n",
    "The TMDmap (target measure diffusion map) allows for Boltzmann correction exp(-beta*V(x))."
   ]
  },
  {
   "cell_type": "code",
   "execution_count": null,
   "metadata": {},
   "outputs": [],
   "source": [
    "import mdfeature.diffusionmap as diffusionmap\n",
    "\n",
    "weight_params = {}\n",
    "weight_params['simulation'] = simulation\n",
    "weight_params['temperature'] = 300\n",
    "\n",
    "mydmap_tmd, traj = diffusionmap.compute_diffusionmaps(traj_orig, nrpoints=2000, epsilon=1.0, weights='compute', weight_params=weight_params)\n",
    "\n",
    "#######################################################\n",
    "phi_torsion = features.compute_torsion_mdraj(traj, phi)\n",
    "psi_torsion = features.compute_torsion_mdraj(traj, psi)\n",
    "\n",
    "clb = plt.scatter(phi_torsion, psi_torsion, c=mydmap_tmd.evecs[:,0], s=5)\n",
    "plt.colorbar(clb, label='DC 1')\n",
    "plt.xlim([-np.pi, np.pi])\n",
    "plt.ylim([-np.pi, np.pi])\n",
    "\n",
    "plt.xlabel(r'$\\phi$')\n",
    "plt.ylabel(r'$\\psi$')\n",
    "plt.show()\n",
    "\n",
    "\n",
    "clb = plt.scatter(phi_torsion, psi_torsion, c=mydmap_tmd.evecs[:,1], s=5)\n",
    "plt.colorbar(clb, label='DC 2')\n",
    "plt.xlim([-np.pi, np.pi])\n",
    "plt.ylim([-np.pi, np.pi])\n",
    "\n",
    "plt.xlabel(r'$\\phi$')\n",
    "plt.ylabel(r'$\\psi$')\n",
    "plt.show()"
   ]
  },
  {
   "cell_type": "markdown",
   "metadata": {},
   "source": [
    "### Explicit weights\n",
    "It is possible to compute diffusionmaps with explicit weights."
   ]
  },
  {
   "cell_type": "code",
   "execution_count": null,
   "metadata": {},
   "outputs": [],
   "source": [
    "from openmmtools.constants import kB\n",
    "\n",
    "simulation = weight_params['simulation']\n",
    "\n",
    "positions = simulation.context.getState(getPositions=True).getPositions()\n",
    "energy_unit = diffusionmap.energy(positions, simulation).unit\n",
    "positions_unit = positions.unit\n",
    "\n",
    "E = diffusionmap.compute_energy(traj.xyz, simulation, positions_unit, energy_unit)\n",
    "print('Energy has shape')\n",
    "print(E.shape)\n",
    "\n",
    "# example: renormalize to new temperature value\n",
    "T_orig = 300\n",
    "kT_orig = kB * T_orig * kelvin\n",
    "\n",
    "T2 = 400\n",
    "kT2 = kB * T2 * kelvin\n",
    "\n",
    "density_T_orig = diffusionmap.compute_target_measure(E, kT_orig, energy_unit)\n",
    "density_T2 = diffusionmap.compute_target_measure(E, kT2, energy_unit)\n",
    "        \n",
    "weights = density_T2 / density_T_orig\n",
    "\n",
    "weight_params = {}\n",
    "weight_params['simulation'] = simulation\n",
    "weight_params['weights'] = weights\n",
    "\n",
    "mydmap_expl, traj = diffusionmap.compute_diffusionmaps(traj_orig, nrpoints=2000, epsilon=1.0, weights='explicit', weight_params=weight_params)\n",
    "\n",
    "\n",
    "#######################################################\n",
    "phi_torsion = features.compute_torsion_mdraj(traj, phi)\n",
    "psi_torsion = features.compute_torsion_mdraj(traj, psi)\n",
    "\n",
    "clb = plt.scatter(phi_torsion, psi_torsion, c=mydmap_expl.evecs[:,0], s=5)\n",
    "plt.colorbar(clb, label='DC 1')\n",
    "plt.xlim([-np.pi, np.pi])\n",
    "plt.ylim([-np.pi, np.pi])\n",
    "\n",
    "plt.xlabel(r'$\\phi$')\n",
    "plt.ylabel(r'$\\psi$')\n",
    "plt.show()\n",
    "\n"
   ]
  },
  {
   "cell_type": "markdown",
   "metadata": {},
   "source": [
    "We continue using the vanilla diffusionmap for the rest of the tutorial."
   ]
  },
  {
   "cell_type": "code",
   "execution_count": null,
   "metadata": {},
   "outputs": [],
   "source": [
    "import mdfeature.diffusionmap as diffusionmap\n",
    "\n",
    "mydmap, traj = diffusionmap.compute_diffusionmaps(traj_orig, nrpoints=9000, epsilon=1.0)"
   ]
  },
  {
   "cell_type": "markdown",
   "metadata": {},
   "source": [
    "computing free energy contour of the diffusion map space"
   ]
  },
  {
   "cell_type": "code",
   "execution_count": null,
   "metadata": {},
   "outputs": [],
   "source": [
    "free_energy_dc, edx, edy = np.histogram2d(mydmap.dmap[:,0], mydmap.dmap[:,1], bins=200)\n",
    "#print(free_energy_dc)\n",
    "#print(edx)\n",
    "#print(edy)\n",
    "with numpy.errstate(divide='ignore'):\n",
    "    free_energy_dc = -np.log(free_energy_dc)\n",
    "\n",
    "fig = plt.figure(figsize=(15,10))\n",
    "clb = plt.contourf(edx[1:], edy[1:], free_energy_dc.T)\n",
    "#plt.contourf([edx, edy,], free_energy_dc.T)\n",
    "plt.colorbar(clb, label='Free energy')\n",
    "\n",
    "plt.xlabel('DC 1')\n",
    "plt.ylabel('DC 2')\n",
    "\n",
    "plt.show()"
   ]
  },
  {
   "cell_type": "markdown",
   "metadata": {},
   "source": [
    "Module features contains also functions to define list of features, compute all the correlations with the diffusion coordinates and select the best ones."
   ]
  },
  {
   "cell_type": "code",
   "execution_count": null,
   "metadata": {},
   "outputs": [],
   "source": [
    "phi = [4, 6, 8 ,14] #dihedral coordinates\n",
    "psi = [6, 8, 14, 16]\n",
    "zeta = [1, 4, 6, 8]\n",
    "theta = [8, 14, 16, 18]\n",
    "\n",
    "default_torsions = [phi, psi, zeta, theta]\n",
    "all_combinations = features.create_torsions_list(atoms=traj.xyz.shape[1], size=100, append_to=default_torsions, print_list=False)"
   ]
  },
  {
   "cell_type": "code",
   "execution_count": null,
   "metadata": {},
   "outputs": [],
   "source": [
    "dimension = 2\n",
    "\n",
    "list_of_functions =['compute_cos_torsion_mdraj' for _ in range(len(all_combinations))]\n",
    "#print(traj)\n",
    "#print(mydmap)\n",
    "#print(list_of_functions)\n",
    "#print(all_combinations)\n",
    "correlations = features.compute_all_correlations(traj, mydmap, dimension, list_of_functions, nevery=10, list_of_params=all_combinations)\n",
    "#TODO fix bug in correlation code"
   ]
  },
  {
   "cell_type": "code",
   "execution_count": null,
   "metadata": {},
   "outputs": [],
   "source": [
    "# choose the two best ones\n",
    "cv_indices, correlations_cv, cv_indices_2, correlations_cv_2 = features.identify_features(correlations, all_combinations, dimension)\n",
    "\n"
   ]
  },
  {
   "cell_type": "code",
   "execution_count": null,
   "metadata": {},
   "outputs": [],
   "source": [
    "print(cv_indices)\n",
    "print(correlations_cv)"
   ]
  },
  {
   "cell_type": "code",
   "execution_count": null,
   "metadata": {},
   "outputs": [],
   "source": [
    "cv_indices_minimal, correlations_cv_minimal = features.identify_worst_features(correlations, all_combinations, dimension)\n"
   ]
  },
  {
   "cell_type": "code",
   "execution_count": null,
   "metadata": {},
   "outputs": [],
   "source": [
    "torsion_max = features.compute_torsion_mdraj(traj, cv_indices[0])\n",
    "torsion_max_1 = features.compute_torsion_mdraj(traj, cv_indices[1])"
   ]
  },
  {
   "cell_type": "code",
   "execution_count": null,
   "metadata": {},
   "outputs": [],
   "source": [
    "clb = plt.scatter(torsion_max, mydmap.evecs[:,0], c=torsion_max_1)\n",
    "plt.colorbar(clb, label=(features.get_name_torsion(cv_indices[1], pdb_file=pdb_name, table=table, format='short')))\n",
    "plt.xlabel(features.get_name_torsion(cv_indices[0], pdb_file=pdb_name, table=table, format='short'))\n",
    "    \n",
    "plt.ylabel('DC 1')\n",
    "plt.show()\n",
    "\n",
    "clb = plt.scatter(torsion_max_1, mydmap.evecs[:,1], c=torsion_max)\n",
    "plt.colorbar(clb, label=(features.get_name_torsion(cv_indices[1], pdb_file=pdb_name, table=table, format='short')))\n",
    "plt.xlabel((features.get_name_torsion(cv_indices[1], pdb_file=pdb_name, table=table, format='short')))\n",
    "plt.ylabel('DC 2')\n",
    "plt.show()\n",
    "#TODO: fix plot"
   ]
  },
  {
   "cell_type": "code",
   "execution_count": null,
   "metadata": {},
   "outputs": [],
   "source": []
  },
  {
   "cell_type": "code",
   "execution_count": null,
   "metadata": {},
   "outputs": [],
   "source": []
  }
 ],
 "metadata": {
  "kernelspec": {
   "display_name": "Python 3 (ipykernel)",
   "language": "python",
   "name": "python3"
  },
  "language_info": {
   "codemirror_mode": {
    "name": "ipython",
    "version": 3
   },
   "file_extension": ".py",
   "mimetype": "text/x-python",
   "name": "python",
   "nbconvert_exporter": "python",
   "pygments_lexer": "ipython3",
   "version": "3.9.12"
  }
 },
 "nbformat": 4,
 "nbformat_minor": 2
}
