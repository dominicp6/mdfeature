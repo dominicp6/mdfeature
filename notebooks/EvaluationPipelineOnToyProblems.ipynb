{
 "cells": [
  {
   "cell_type": "code",
   "execution_count": null,
   "id": "8afb3724",
   "metadata": {},
   "outputs": [],
   "source": [
    "import autograd.numpy as np\n",
    "import pandas as pd\n",
    "import dill\n",
    "import pyemma\n",
    "from math import floor\n",
    "from autograd import grad\n",
    "from mdfeature.KramersRateEvaluator import KramersRateEvaluator"
   ]
  },
  {
   "cell_type": "markdown",
   "id": "272ace2c",
   "metadata": {},
   "source": [
    "Data restore"
   ]
  },
  {
   "cell_type": "code",
   "execution_count": null,
   "id": "f68574ed",
   "metadata": {},
   "outputs": [],
   "source": [
    "#dill.dump(double_well_traj, file = open(\"double_well_traj.pickle\", \"wb\"))\n",
    "double_well_traj = dill.load(open(\"double_well_traj.pickle\", \"rb\"))"
   ]
  },
  {
   "cell_type": "markdown",
   "id": "c218b90b",
   "metadata": {},
   "source": [
    "# Toy Problems in Potential Energy Landscapes\n",
    "\n",
    "In this notebook we look at\n",
    "1. Double-Well (1D)\n",
    "2. Quadruple-Well  (2D)\n",
    "3. Ring Double Well (2D)\n",
    "4. Muller-Brown Potential Energy Surface (2D)"
   ]
  },
  {
   "cell_type": "code",
   "execution_count": null,
   "id": "38650ae9",
   "metadata": {},
   "outputs": [],
   "source": [
    "def cart2pol(x, y):\n",
    "    r = np.sqrt(x**2 + y**2)\n",
    "    theta = np.arctan2(y, x)\n",
    "    \n",
    "    return r, theta"
   ]
  },
  {
   "cell_type": "code",
   "execution_count": null,
   "id": "1905994c",
   "metadata": {},
   "outputs": [],
   "source": [
    "# Shallow well (1D)\n",
    "def shallow_well_potential(x):\n",
    "    return 0.01 * x**2\n",
    "\n",
    "# Double well (1D)\n",
    "def double_well_potential(x):\n",
    "    h = 2\n",
    "    c = 2\n",
    "    return -(1/4)*(x**2)*(h**4) + (1/2)*(c**2)*(x**4)\n",
    "\n",
    "# Quadruple Well (2D)\n",
    "def quadruple_well_potential(x):\n",
    "    h = 2\n",
    "    c = 2\n",
    "    return (-(1/4)*(x[0]**2)*(h**4) + (1/2)*(c**2)*(x[0]**4))+(-(1/4)*(x[1]**2)*(h**4) + (1/2)*(c**2)*(x[1]**4))\n",
    "\n",
    "# Ring Double Well (2D)\n",
    "def ring_double_well_potential(x):\n",
    "    theta0 = np.pi\n",
    "    r0 = 1\n",
    "    w = 0.2\n",
    "    d = 5\n",
    "    r, theta = cart2pol(x[0], x[1])\n",
    "    \n",
    "    return (1/r) * np.exp(r/r0) - d * np.exp(-((x[0]-r0)**2 + (x[1])**2)/(2*w**2)) - d * np.exp(-((x[0]-r0*np.cos(theta0))**2 + (x[1]-r0*np.sin(theta0))**2)/(2*w**2))\n",
    "\n",
    "# Muller-Brown Potential (2D)\n",
    "def muller_brown_potential(x):\n",
    "    A = (-200, -100, -170, 15)\n",
    "    a = (-1, -1, -6.5, 0.7)\n",
    "    b = (0, 0, 11, 0.6)\n",
    "    c = (-10, -10, -6.5, 0.7)\n",
    "    x0 = (1, 0, -0.5, -1)\n",
    "    y0 = (0, 0.5, 1.5, 1)\n",
    "    \n",
    "    V = 0\n",
    "    for k in range(4):\n",
    "        V += A[k]*np.exp(a[k]*(x[0]-x0[k])**2 + b[k]*(x[0]-x0[k])*(x[1]-y0[k]) + c[k]*(x[1]-y0[k])**2)\n",
    "        \n",
    "    return V"
   ]
  },
  {
   "cell_type": "markdown",
   "id": "e8e3d2ae",
   "metadata": {},
   "source": [
    "Functions for free energy plots"
   ]
  },
  {
   "cell_type": "code",
   "execution_count": null,
   "id": "d99d289e",
   "metadata": {},
   "outputs": [],
   "source": [
    "def free_energy_estimate(samples, beta, minimum_counts=50):\n",
    "    # histogram\n",
    "    counts, coordinate = np.histogram(samples, bins=200)\n",
    "    robust_counts = counts[np.where(counts>minimum_counts)]\n",
    "    robust_coordinates = coordinate[np.where(counts>minimum_counts)]\n",
    "    \n",
    "    # log noraml\n",
    "    normalised_counts = robust_counts / np.sum(counts)\n",
    "    with np.errstate(divide='ignore'):\n",
    "        free_energy = - (1/beta)* np.log(normalised_counts)\n",
    "    \n",
    "    return free_energy, robust_coordinates\n",
    "\n",
    "def plot_free_energy_estimate(potential, samples, beta, minimum_counts=50):\n",
    "    estimated_free_energy, coordinates = free_energy_estimate(samples, beta, minimum_counts)\n",
    "    linear_shift = estimated_free_energy[floor(len(estimated_free_energy)/2)] - potential(0)\n",
    "\n",
    "    fig = plt.figure(figsize=(6,6))\n",
    "    plt.plot(coordinates, estimated_free_energy - linear_shift, 'k', label='estimated')\n",
    "    plt.xlabel('x', fontsize=16)\n",
    "    plt.ylabel('F', fontsize=16)\n",
    "    x_range = np.arange(min(coordinates), max(coordinates), (max(coordinates)-min(coordinates))/1000)\n",
    "    plt.plot(x_range, potential(x_range), label='actual')\n",
    "    plt.legend()\n",
    "    plt.title('Free Energy Surface', fontsize=16)"
   ]
  },
  {
   "cell_type": "code",
   "execution_count": null,
   "id": "f96d6cb7",
   "metadata": {},
   "outputs": [],
   "source": [
    "def project_points_to_line(points, coords, theta):\n",
    "    # coords = (x0, y0), a point that the line goes through\n",
    "    # theta is the orientation of the line (e.g. theta = 0 is parallel to the x axis, theta = pi/2 is parallel to the y axis)\n",
    "    a = coords\n",
    "    b = coords + np.array([np.cos(theta), np.sin(theta)])\n",
    "    ap = points - a\n",
    "    ab = b - a\n",
    "    projected_points = np.dot(ap, ab) / np.dot(ab, ab)\n",
    "    \n",
    "    return projected_points"
   ]
  },
  {
   "cell_type": "code",
   "execution_count": null,
   "id": "1c73fd9e",
   "metadata": {},
   "outputs": [],
   "source": [
    "def plot_free_energy_surface(samples, beta, slice_centre, slice_angle, minimum_counts=50):\n",
    "    concatenated_samples = np.concatenate(samples)\n",
    "    projected_samples = project_points_to_line(concatenated_samples, np.array(slice_centre), slice_angle)\n",
    "    free_energy, coordinates = free_energy_estimate(projected_samples, beta, minimum_counts)\n",
    "    fig, axs = plt.subplots(1, 3)\n",
    "    fig.set_size_inches(18,5)\n",
    "    axs[0].hist2d(concatenated_samples[:,0], concatenated_samples[:,1], bins=300)\n",
    "    axs[0].plot(slice_centre[0], slice_centre[1], 'rx', markersize=12)\n",
    "    max_x = max(concatenated_samples[:,0])\n",
    "    min_x = min(concatenated_samples[:,0])\n",
    "    x_range = np.arange(min_x, max_x, (max_x-min_x)/1000)\n",
    "    m = np.tan(slice_angle); c = slice_centre[1] - m * slice_centre[0]\n",
    "    y_range = m * x_range + c\n",
    "    axs[0].plot(x_range, y_range, 'r')\n",
    "    axs[1].hist(projected_samples, bins=100)\n",
    "    axs[2].plot(coordinates, free_energy)\n",
    "    plt.show()    \n",
    "    \n",
    "    return projected_samples"
   ]
  },
  {
   "cell_type": "markdown",
   "id": "6c2d4352",
   "metadata": {},
   "source": [
    "Evaluation functions"
   ]
  },
  {
   "cell_type": "code",
   "execution_count": null,
   "id": "e65b16f0",
   "metadata": {},
   "outputs": [],
   "source": [
    "def relabel_trajectory_by_coordinate_chronology(traj, state_centers):\n",
    "    sorted_indices = np.argsort(np.argsort(state_centers))\n",
    "\n",
    "    # relabel states in trajectory\n",
    "    for idx, state in enumerate(traj):\n",
    "        traj[idx] = sorted_indices[traj[idx]]\n",
    "\n",
    "    return traj"
   ]
  },
  {
   "cell_type": "code",
   "execution_count": null,
   "id": "eba34a68",
   "metadata": {},
   "outputs": [],
   "source": [
    "def compute_discrete_trajectory(trajectory, k=30):\n",
    "    cluster = pyemma.coordinates.cluster_kmeans(trajectory, k=k)\n",
    "    discrete_traj = cluster.dtrajs[0]\n",
    "    cluster_centers = cluster.clustercenters.flatten()\n",
    "    discrete_traj = relabel_trajectory_by_coordinate_chronology(discrete_traj, cluster_centers)\n",
    "    cluster_centers = np.sort(cluster_centers)\n",
    "    \n",
    "    return discrete_traj, cluster_centers\n",
    "\n",
    "def calculate_cni(i, X, n, P):\n",
    "    return np.sum([(X[j] - X[i])** n * P[i,j] for j in range(len(X))])\n",
    "\n",
    "def calculate_c(X, n, P):\n",
    "    return np.array([calculate_cni(i, X, n, P) for i in range(len(X))])"
   ]
  },
  {
   "cell_type": "code",
   "execution_count": null,
   "id": "252c339d",
   "metadata": {},
   "outputs": [],
   "source": [
    "def correlation_coefficients_check(beta, potential, discrete_traj, cluster_centers, lag, time_step):\n",
    "    tau = lag * time_step\n",
    "    \n",
    "    msm = pyemma.msm.estimate_markov_model(discrete_traj, lag)\n",
    "    \n",
    "    x_min = min(cluster_centers); x_max = max(cluster_centers)\n",
    "    x_range = np.arange(x_min, x_max, (x_max-x_min)/1000)\n",
    "    grad_potential = grad(potential)\n",
    "    \n",
    "    D1_theory = -beta * np.array([grad_potential(x) for x in x_range])\n",
    "    D2_theory = np.array([2 for x in x_range])\n",
    "    \n",
    "    C1_theory = tau * D1_theory\n",
    "    C2_theory = 2 * D2_theory * tau + C1_theory ** 2\n",
    "    \n",
    "    C1_exp = calculate_c(cluster_centers, 1, msm.transition_matrix)\n",
    "    C2_exp = calculate_c(cluster_centers, 2, msm.transition_matrix)\n",
    "    \n",
    "    D1_exp = C1_exp / tau\n",
    "    D2_exp = (C2_exp - C1_exp ** 2)/(2*tau)\n",
    "    \n",
    "    fig, axs = plt.subplots(2, 2)\n",
    "    fig.set_size_inches(12,8)\n",
    "    \n",
    "    axs[0,0].set_title('C1')\n",
    "    axs[0,0].plot(x_range, C1_theory, label='theory')\n",
    "    axs[0,0].plot(cluster_centers, C1_exp, label='exp')\n",
    "    axs[0,0].legend()\n",
    "    \n",
    "    axs[0,1].set_title('C2')\n",
    "    axs[0,1].plot(x_range, C2_theory, label='theory')\n",
    "    axs[0,1].plot(cluster_centers, C2_exp, label='exp')\n",
    "    axs[0,1].legend()\n",
    "    \n",
    "    axs[1,0].set_title('D1')\n",
    "    axs[1,0].plot(x_range, D1_theory, label='theory')\n",
    "    axs[1,0].plot(cluster_centers, D1_exp, label='exp')\n",
    "    axs[1,0].legend()\n",
    "    \n",
    "    axs[1,1].set_title('D2')\n",
    "    axs[1,1].plot(x_range, D2_theory, label='theory')\n",
    "    axs[1,1].plot(cluster_centers, D2_exp, label='exp')\n",
    "    axs[1,1].legend()\n",
    "    \n",
    "    plt.show()"
   ]
  },
  {
   "cell_type": "code",
   "execution_count": null,
   "id": "6fe820f1",
   "metadata": {},
   "outputs": [],
   "source": [
    "def compute_analytic_kramers_rate(potential, beta, initial_x, final_x, D):\n",
    "    free_energy = \n",
    "    well_integrand = [np.exp(- beta * free_energy[x]) for x in range(len(free_energy))]\n",
    "    # assuming constant diffusion coefficient\n",
    "    barrier_integrand = [np.exp(beta * free_energy[x])/D for x in range(len(free_energy))]\n",
    "    mid_x = int(np.floor((initial_x+final_x)/2))\n",
    "    if final_x > initial_x:\n",
    "        well_integral = integrate.simpson(well_integrand[initial_x: mid_x + 1], self.coordinates[initial_x: mid_x + 1])\n",
    "        barrier_integral = integrate.simpson(barrier_integrand[initial_x + 1: final_x], self.coordinates[initial_x + 1:final_x])\n",
    "    else:\n",
    "        well_integral = integrate.simpson(well_integrand[mid_x: initial_x+1], self.coordinates[mid_x: initial_x+1])\n",
    "        barrier_integral = integrate.simpson(barrier_integrand[final_x + 1: initial_x], self.coordinates[final_x + 1: initial_x])"
   ]
  },
  {
   "cell_type": "markdown",
   "id": "3190bb47",
   "metadata": {},
   "source": [
    "## Langevin Dynamics"
   ]
  },
  {
   "cell_type": "code",
   "execution_count": null,
   "id": "dd011057",
   "metadata": {},
   "outputs": [],
   "source": [
    "import matplotlib.pyplot as plt \n",
    "from mdfeature.Langevin import LangevinDynamics\n",
    "\n",
    "temperature = 300\n",
    "R = 0.0083144621  # Universal Gas Constant kJ/K/mol\n",
    "beta = 1.0 / (temperature * R)  # units (kJ/mol)**(-1)\n",
    "\n",
    "step_size = 5e-3\n",
    "\n",
    "shallow_well_sampler = LangevinDynamics(x0=0.0, potential=shallow_well_potential, beta=beta, time_step=step_size)\n",
    "double_well_sampler = LangevinDynamics(x0=0.0, potential=double_well_potential, beta=beta, time_step=step_size)\n",
    "quadruple_well_sampler = LangevinDynamics(x0=[0.0,0.0], potential=quadruple_well_potential, beta=beta, time_step=step_size)\n",
    "ring_double_well_sampler = LangevinDynamics(x0=[0.2,1.0], potential=ring_double_well_potential, beta=beta, time_step=step_size)\n",
    "muller_brown_sampler = LangevinDynamics(x0=[0.0,0.0], potential=muller_brown_potential, beta=beta, time_step=step_size)"
   ]
  },
  {
   "cell_type": "markdown",
   "id": "f1149dd2",
   "metadata": {},
   "source": [
    "Kramers Rate Evaluator"
   ]
  },
  {
   "cell_type": "code",
   "execution_count": null,
   "id": "c2620421",
   "metadata": {},
   "outputs": [],
   "source": [
    "kre = KramersRateEvaluator(verbose=True)"
   ]
  },
  {
   "cell_type": "markdown",
   "id": "2fa6f151",
   "metadata": {},
   "source": [
    "### Shallow Well "
   ]
  },
  {
   "cell_type": "code",
   "execution_count": null,
   "id": "97ad3395",
   "metadata": {},
   "outputs": [],
   "source": [
    "shallow_well_samples = shallow_well_sampler.simulate(number_of_steps=5000000, burn_in=4000)\n",
    "shallow_well_traj = np.concatenate(shallow_well_samples).ravel()"
   ]
  },
  {
   "cell_type": "markdown",
   "id": "27504d68",
   "metadata": {},
   "source": [
    "### Double well"
   ]
  },
  {
   "cell_type": "code",
   "execution_count": null,
   "id": "5e373144",
   "metadata": {},
   "outputs": [],
   "source": [
    "double_well_samples = double_well_sampler.simulate(number_of_steps=5000000, burn_in=10000)\n",
    "double_well_traj = np.concatenate(double_well_samples).ravel()\n",
    "plt.hist(double_well_traj, bins=100)\n",
    "plt.show()"
   ]
  },
  {
   "cell_type": "code",
   "execution_count": null,
   "id": "d6e07efa",
   "metadata": {},
   "outputs": [],
   "source": [
    "plot_free_energy_estimate(double_well_potential, double_well_samples, beta, minimum_counts=500)"
   ]
  },
  {
   "cell_type": "code",
   "execution_count": null,
   "id": "e42cf412",
   "metadata": {
    "scrolled": false
   },
   "outputs": [],
   "source": [
    "discrete_traj, cluster_centers = compute_discrete_trajectory(double_well_traj)\n",
    "correlation_coefficients_check(beta, double_well_potential, discrete_traj, cluster_centers, 1, step_size)"
   ]
  },
  {
   "cell_type": "code",
   "execution_count": null,
   "id": "b49e1bc6",
   "metadata": {
    "scrolled": false
   },
   "outputs": [],
   "source": [
    "kre.fit(double_well_traj, \n",
    "        beta, \n",
    "        sigmaD=0.002,\n",
    "        sigmaF=0.00025,\n",
    "        lag=35,\n",
    "        time_step=step_size,\n",
    "        k=30)"
   ]
  },
  {
   "cell_type": "markdown",
   "id": "5eee25d4",
   "metadata": {},
   "source": [
    "### Quadruple well "
   ]
  },
  {
   "cell_type": "code",
   "execution_count": null,
   "id": "b9e562fb",
   "metadata": {},
   "outputs": [],
   "source": [
    "quadruple_well_samples = quadruple_well_sampler.simulate(number_of_steps=1000000, burn_in=4000)"
   ]
  },
  {
   "cell_type": "code",
   "execution_count": null,
   "id": "192adbaa",
   "metadata": {},
   "outputs": [],
   "source": [
    "quadruple_well_projected_traj = plot_free_energy_surface(quadruple_well_samples, beta, np.array([0,0]), 0, minimum_counts=50)"
   ]
  },
  {
   "cell_type": "code",
   "execution_count": null,
   "id": "af6f83a6",
   "metadata": {
    "scrolled": false
   },
   "outputs": [],
   "source": [
    "kre.fit(quadruple_well_projected_traj, \n",
    "        beta, \n",
    "        sigmaD=0.5,\n",
    "        sigmaF=0.00025,\n",
    "        lag = 3,\n",
    "        bins=200, \n",
    "        step_size=step_size,\n",
    "        minima_prominance=2.0, \n",
    "        cluster_type='kmeans',\n",
    "        options={'k': 200, 'stride': 5, 'max_iter': 150,\n",
    "         'max_centers': 1000, 'metric': 'euclidean', 'n_jobs': None, 'dmin': 0.002})"
   ]
  },
  {
   "cell_type": "markdown",
   "id": "0dbce1f8",
   "metadata": {},
   "source": [
    "### Ring double well"
   ]
  },
  {
   "cell_type": "code",
   "execution_count": null,
   "id": "5a412d28",
   "metadata": {},
   "outputs": [],
   "source": [
    "ring_double_well_samples = ring_double_well_sampler.simulate(number_of_steps=1000000, burn_in=4000)"
   ]
  },
  {
   "cell_type": "code",
   "execution_count": null,
   "id": "0d70d6da",
   "metadata": {},
   "outputs": [],
   "source": [
    "ring_double_well_projected_traj = plot_free_energy_surface(ring_double_well_samples, beta, np.array([0,0]), 0, minimum_counts=5000)"
   ]
  },
  {
   "cell_type": "markdown",
   "id": "794fa42a",
   "metadata": {},
   "source": [
    "### Muller brown samples"
   ]
  },
  {
   "cell_type": "code",
   "execution_count": null,
   "id": "0316d796",
   "metadata": {},
   "outputs": [],
   "source": [
    "muller_brown_samples = muller_brown_sampler.simulate(number_of_steps=1000000, burn_in=4000)"
   ]
  },
  {
   "cell_type": "code",
   "execution_count": null,
   "id": "4a0e80af",
   "metadata": {},
   "outputs": [],
   "source": [
    "muller_brown_projected_traj = plot_free_energy_surface(muller_brown_samples, beta, np.array([0,0]), np.pi/8, minimum_counts=5000)"
   ]
  },
  {
   "cell_type": "code",
   "execution_count": null,
   "id": "4dbb7d8c",
   "metadata": {},
   "outputs": [],
   "source": []
  }
 ],
 "metadata": {
  "kernelspec": {
   "display_name": "Python 3 (ipykernel)",
   "language": "python",
   "name": "python3"
  },
  "language_info": {
   "codemirror_mode": {
    "name": "ipython",
    "version": 3
   },
   "file_extension": ".py",
   "mimetype": "text/x-python",
   "name": "python",
   "nbconvert_exporter": "python",
   "pygments_lexer": "ipython3",
   "version": "3.9.12"
  }
 },
 "nbformat": 4,
 "nbformat_minor": 5
}
