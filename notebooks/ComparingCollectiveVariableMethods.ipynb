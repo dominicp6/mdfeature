{
 "cells": [
  {
   "cell_type": "code",
   "execution_count": 11,
   "id": "3945c9ce",
   "metadata": {},
   "outputs": [],
   "source": [
    "import mdtraj as md\n",
    "import mdfeature.features as features\n",
    "import numpy as np\n",
    "import dill\n",
    "from mdfeature.ConvergenceAnalyser import free_energy_estimate_2D\n",
    "import pyemma"
   ]
  },
  {
   "cell_type": "code",
   "execution_count": 12,
   "id": "864a64b5",
   "metadata": {},
   "outputs": [],
   "source": [
    "import matplotlib.pyplot as plt\n",
    "import matplotlib as mpl\n",
    "mpl.rcParams['lines.linewidth'] = 2\n",
    "font = {'family' : 'sans-serif',\n",
    "        'size'   : 14.0}\n",
    "mpl.rc('font', **font) \n",
    "mpl.rcParams['xtick.labelsize'] = 16\n",
    "mpl.rcParams['ytick.labelsize'] =  16\n",
    "mpl.rcParams['font.size'] =  15\n",
    "mpl.rcParams['figure.autolayout'] =  True\n",
    "mpl.rcParams['figure.figsize'] =  7.2,4.45\n",
    "mpl.rcParams['axes.titlesize'] =  16\n",
    "mpl.rcParams['axes.labelsize'] =  17\n",
    "mpl.rcParams['lines.linewidth'] =  2\n",
    "mpl.rcParams['lines.markersize'] =  6\n",
    "mpl.rcParams['legend.fontsize'] =  13"
   ]
  },
  {
   "cell_type": "markdown",
   "id": "d6d76757",
   "metadata": {},
   "source": [
    "Define Experiment Class"
   ]
  },
  {
   "cell_type": "code",
   "execution_count": 1,
   "id": "50655db0",
   "metadata": {},
   "outputs": [],
   "source": [
    "class Experiment:\n",
    "\n",
    "        def __init__(self, pdb, trajectory, dihedral_pickle_file, temperature, length, record_interval, step_size):\n",
    "                self.pdb, self.topology, self.trajectory, self.dihedral_traj = \\\n",
    "                        self.load_experiment(pdb, trajectory, dihedral_pickle_file)\n",
    "                self.temperature = temperature\n",
    "                self.length = length\n",
    "                self.record_interval = record_interval\n",
    "                self.step_size = step_size\n",
    "                self.beta = 1/(self.temperature*0.0083144621)\n",
    "                self.conformations = len(self.trajectory)\n",
    "\n",
    "                self.PCA = None\n",
    "                self.TICA = None\n",
    "                self.VAMP = None\n",
    "\n",
    "        @staticmethod\n",
    "        def load_experiment(pdb, trajectory, dihedral_pickle_file):\n",
    "                pdb_file = md.load_pdb(pdb)\n",
    "                topology_file = pdb_file.topology\n",
    "                original_trajectory = md.load_dcd(trajectory, topology_file)\n",
    "                adjusted_trajectory = original_trajectory.superpose(original_trajectory[0])\n",
    "                dihedral_traj = dill.load(open(dihedral_pickle_file, \"rb\"))\n",
    "\n",
    "                return pdb_file, topology_file, adjusted_trajectory, dihedral_traj\n",
    "\n",
    "        def ramachandran_plot(self, bins=100):\n",
    "                # TODO: fix this function\n",
    "                free_energy, xedges, yedges = free_energy_estimate_2D(self.dihedral_traj.T, self.beta, bins=bins)\n",
    "                fig, ax = plt.subplots()\n",
    "                im = ax.pcolormesh(xedges, yedges, free_energy.T)\n",
    "                plt.colorbar(im)\n",
    "                plt.xlabel(r'$\\phi$')\n",
    "                plt.ylabel(r'$\\psi$')\n",
    "                plt.gca().set_aspect('equal')\n",
    "                plt.show()\n",
    "\n",
    "        def compute_PCA(self, dim, stride=1):\n",
    "                self.PCA = pyemma.coordinates.pca(self.trajectory, dim=dim, stride=stride)\n",
    "\n",
    "        def compute_TICA(self, dim, lag, stride=1):\n",
    "                self.TICA = pyemma.coordinates.tica(self.trajectory, lag=lag, dim=dim, stride=stride)\n",
    "\n",
    "        def compute_VAMP(self, dim, lag, stride=1):\n",
    "                self.VAMP = pyemma.coordinates.vamp(self.trajectory, lag=lag, dim=dim, stride=stride)\n"
   ]
  },
  {
   "cell_type": "markdown",
   "id": "370c6eb5",
   "metadata": {
    "pycharm": {
     "name": "#%% md\n"
    }
   },
   "source": [
    "Tasks to do"
   ]
  },
  {
   "cell_type": "markdown",
   "source": [
    "1) Adapt convergence code to make it run with two empirical grids\n",
    "2) Write code for learning collective variables from an experiment (PCA, TICA, VAMPnet) Done.\n",
    "3) OpenMM metadynamics - in what form do the collective variables need to be given?\n",
    "4) Learn collective variables from 20ns trajectory (yorkshire)\n",
    "5) Diffusion maps vs. TICA vs. VAMPnet trajectories Kramers Rate in ring double well\n",
    "6) Diffusion maps vs. TICA vs. VAMPnet trajectories Kramers Rate in alanine dipeptide"
   ],
   "metadata": {
    "collapsed": false,
    "pycharm": {
     "name": "#%% md\n"
    }
   }
  }
 ],
 "metadata": {
  "kernelspec": {
   "display_name": "Python 3 (ipykernel)",
   "language": "python",
   "name": "python3"
  },
  "language_info": {
   "codemirror_mode": {
    "name": "ipython",
    "version": 3
   },
   "file_extension": ".py",
   "mimetype": "text/x-python",
   "name": "python",
   "nbconvert_exporter": "python",
   "pygments_lexer": "ipython3",
   "version": "3.9.12"
  }
 },
 "nbformat": 4,
 "nbformat_minor": 5
}