{
 "cells": [
  {
   "cell_type": "markdown",
   "id": "05bdb101",
   "metadata": {},
   "source": [
    "# PyEmma Markov State Models"
   ]
  },
  {
   "cell_type": "code",
   "execution_count": null,
   "id": "2432631f",
   "metadata": {},
   "outputs": [],
   "source": [
    "import dill\n",
    "import pyemma\n",
    "import matplotlib.pyplot as plt"
   ]
  },
  {
   "cell_type": "markdown",
   "id": "f218fd16",
   "metadata": {},
   "source": [
    "load diffusion map"
   ]
  },
  {
   "cell_type": "code",
   "execution_count": null,
   "id": "e8708975",
   "metadata": {},
   "outputs": [],
   "source": [
    "dmap_obj = dill.load(open(\"dmap_long.pickle\", \"rb\"))"
   ]
  },
  {
   "cell_type": "markdown",
   "id": "1f0994bd",
   "metadata": {},
   "source": [
    "time series of first diffusion coordinate"
   ]
  },
  {
   "cell_type": "code",
   "execution_count": null,
   "id": "849d986e",
   "metadata": {},
   "outputs": [],
   "source": [
    "diffusion_coordinate = 0\n",
    "time_series = dmap_obj.dmap[:,diffusion_coordinate]"
   ]
  },
  {
   "cell_type": "code",
   "execution_count": null,
   "id": "ba079e5f",
   "metadata": {},
   "outputs": [],
   "source": [
    "cluster_regspace = pyemma.coordinates.cluster_regspace(time_series, dmin=0.02) # which clusterer appropriate?\n",
    "discrete_traj = cluster_regspace.dtrajs\n",
    "\n",
    "\n",
    "# implied timescale analysis\n",
    "its = pyemma.msm.its(cluster.dtrajs, lags=[1, 2, 3, 5, 7, 10], nits=3, errors='bayes')\n",
    "pyemma.plots.plot_implied_timescales(its, ylog=False);\n",
    "\n",
    "\n",
    "bayesian_msm = pyemma.msm.bayesian_markov_model(cluster.dtrajs, lag=10, dt_traj='1 ps', conf=0.95)\n",
    "pyemma.plots.plot_cktest(bayesian_msm.cktest(4), units='ps');\n",
    "\n",
    "print(cluster_regspace.clustercenters)"
   ]
  },
  {
   "cell_type": "code",
   "execution_count": null,
   "id": "6c227acb",
   "metadata": {},
   "outputs": [],
   "source": [
    "print(msm)"
   ]
  },
  {
   "cell_type": "markdown",
   "id": "3ea1e9d7",
   "metadata": {},
   "source": [
    "bayesian msm"
   ]
  },
  {
   "cell_type": "code",
   "execution_count": null,
   "id": "d4208d9a",
   "metadata": {},
   "outputs": [],
   "source": [
    "bayesian_msm = pyemma.msm.bayesian_markov_model(discrete_traj, lag=10, dt_traj='1 ps', conf=0.95)\n",
    "pyemma.plots.plot_cktest(bayesian_msm.cktest(4), units='ps');"
   ]
  },
  {
   "cell_type": "code",
   "execution_count": null,
   "id": "ed1da5c8",
   "metadata": {},
   "outputs": [],
   "source": [
    "print(msm.stationary_distribution)\n",
    "plt.plot(msm.stationary_distribution)"
   ]
  },
  {
   "cell_type": "code",
   "execution_count": null,
   "id": "4ab24dbc",
   "metadata": {},
   "outputs": [],
   "source": [
    "print(bayesian_msm.stationary_distribution)"
   ]
  },
  {
   "cell_type": "code",
   "execution_count": null,
   "id": "32ebbece",
   "metadata": {},
   "outputs": [],
   "source": [
    "print(msm.transition_matrix)\n",
    "plt.imshow(msm.transition_matrix)"
   ]
  },
  {
   "cell_type": "code",
   "execution_count": null,
   "id": "0aa75bfe",
   "metadata": {},
   "outputs": [],
   "source": [
    "print(bayesian_msm.transition_matrix)\n",
    "plt.imshow(bayesian_msm.transition_matrix)"
   ]
  },
  {
   "cell_type": "code",
   "execution_count": null,
   "id": "cb5515b5",
   "metadata": {},
   "outputs": [],
   "source": [
    "ck_test = bayesian_msm.cktest(9)\n",
    "pyemma.plots.plot_cktest(ck_test)"
   ]
  },
  {
   "cell_type": "code",
   "execution_count": null,
   "id": "5028e8e4",
   "metadata": {},
   "outputs": [],
   "source": []
  },
  {
   "cell_type": "code",
   "execution_count": null,
   "id": "bcaf375f",
   "metadata": {},
   "outputs": [],
   "source": []
  }
 ],
 "metadata": {
  "kernelspec": {
   "display_name": "Python 3 (ipykernel)",
   "language": "python",
   "name": "python3"
  },
  "language_info": {
   "codemirror_mode": {
    "name": "ipython",
    "version": 3
   },
   "file_extension": ".py",
   "mimetype": "text/x-python",
   "name": "python",
   "nbconvert_exporter": "python",
   "pygments_lexer": "ipython3",
   "version": "3.9.12"
  }
 },
 "nbformat": 4,
 "nbformat_minor": 5
}
